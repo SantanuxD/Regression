{
  "nbformat": 4,
  "nbformat_minor": 0,
  "metadata": {
    "colab": {
      "name": "Myfirst-Regression.ipynb",
      "provenance": [],
      "authorship_tag": "ABX9TyPcJREpWwCdFodgI0/OBwEF",
      "include_colab_link": true
    },
    "kernelspec": {
      "name": "python3",
      "display_name": "Python 3"
    },
    "accelerator": "GPU"
  },
  "cells": [
    {
      "cell_type": "markdown",
      "metadata": {
        "id": "view-in-github",
        "colab_type": "text"
      },
      "source": [
        "<a href=\"https://colab.research.google.com/github/SantanuxD/Regression/blob/master/Myfirst_Regression.ipynb\" target=\"_parent\"><img src=\"https://colab.research.google.com/assets/colab-badge.svg\" alt=\"Open In Colab\"/></a>"
      ]
    },
    {
      "cell_type": "code",
      "metadata": {
        "id": "5ht9NWYObOOM",
        "colab_type": "code",
        "colab": {
          "base_uri": "https://localhost:8080/",
          "height": 35
        },
        "outputId": "737cb9e3-88d0-4ebf-fd8d-65c3960192d7"
      },
      "source": [
        "import numpy\n",
        "import matplotlib.pyplot as plt\n",
        "import pandas as pd\n",
        "\n",
        "print(\"Imported\")\n"
      ],
      "execution_count": 2,
      "outputs": [
        {
          "output_type": "stream",
          "text": [
            "Imported\n"
          ],
          "name": "stdout"
        }
      ]
    },
    {
      "cell_type": "code",
      "metadata": {
        "id": "I0NtK-N_eHZC",
        "colab_type": "code",
        "colab": {
          "base_uri": "https://localhost:8080/",
          "height": 104
        },
        "outputId": "e991f21f-5f85-4749-fbf7-ab6adcb43531"
      },
      "source": [
        "dataset = pd.read_csv('/content/kc_house_data.csv')\n",
        "\n",
        "dataset.columns"
      ],
      "execution_count": 4,
      "outputs": [
        {
          "output_type": "execute_result",
          "data": {
            "text/plain": [
              "Index(['id', 'date', 'price', 'bedrooms', 'bathrooms', 'sqft_living',\n",
              "       'sqft_lot', 'floors', 'waterfront', 'view', 'condition', 'grade',\n",
              "       'sqft_above', 'sqft_basement', 'yr_built', 'yr_renovated', 'zipcode',\n",
              "       'lat', 'long', 'sqft_living15', 'sqft_lot15'],\n",
              "      dtype='object')"
            ]
          },
          "metadata": {
            "tags": []
          },
          "execution_count": 4
        }
      ]
    },
    {
      "cell_type": "code",
      "metadata": {
        "id": "31dNmwS8elq4",
        "colab_type": "code",
        "colab": {
          "base_uri": "https://localhost:8080/",
          "height": 399
        },
        "outputId": "88e0241c-81d4-4adc-8dfa-f27f5e8a8435"
      },
      "source": [
        "dataset.dtypes"
      ],
      "execution_count": 5,
      "outputs": [
        {
          "output_type": "execute_result",
          "data": {
            "text/plain": [
              "id                 int64\n",
              "date              object\n",
              "price            float64\n",
              "bedrooms           int64\n",
              "bathrooms        float64\n",
              "sqft_living        int64\n",
              "sqft_lot           int64\n",
              "floors           float64\n",
              "waterfront         int64\n",
              "view               int64\n",
              "condition          int64\n",
              "grade              int64\n",
              "sqft_above         int64\n",
              "sqft_basement      int64\n",
              "yr_built           int64\n",
              "yr_renovated       int64\n",
              "zipcode            int64\n",
              "lat              float64\n",
              "long             float64\n",
              "sqft_living15      int64\n",
              "sqft_lot15         int64\n",
              "dtype: object"
            ]
          },
          "metadata": {
            "tags": []
          },
          "execution_count": 5
        }
      ]
    },
    {
      "cell_type": "code",
      "metadata": {
        "id": "mEpSKEPUfQXK",
        "colab_type": "code",
        "colab": {}
      },
      "source": [
        "dataset = dataset.drop(['id' , 'date'], axis = 1)"
      ],
      "execution_count": 7,
      "outputs": []
    },
    {
      "cell_type": "code",
      "metadata": {
        "id": "uFVTs6wvfoCB",
        "colab_type": "code",
        "colab": {
          "base_uri": "https://localhost:8080/",
          "height": 104
        },
        "outputId": "0944cc0b-f444-4315-82d2-0c70106f10ff"
      },
      "source": [
        "dataset.columns"
      ],
      "execution_count": 8,
      "outputs": [
        {
          "output_type": "execute_result",
          "data": {
            "text/plain": [
              "Index(['price', 'bedrooms', 'bathrooms', 'sqft_living', 'sqft_lot', 'floors',\n",
              "       'waterfront', 'view', 'condition', 'grade', 'sqft_above',\n",
              "       'sqft_basement', 'yr_built', 'yr_renovated', 'zipcode', 'lat', 'long',\n",
              "       'sqft_living15', 'sqft_lot15'],\n",
              "      dtype='object')"
            ]
          },
          "metadata": {
            "tags": []
          },
          "execution_count": 8
        }
      ]
    },
    {
      "cell_type": "code",
      "metadata": {
        "id": "Zio2KTOmfst5",
        "colab_type": "code",
        "colab": {
          "base_uri": "https://localhost:8080/",
          "height": 222
        },
        "outputId": "aba08274-1cd6-4ff3-ce7f-33059c737164"
      },
      "source": [
        "dataset.head()"
      ],
      "execution_count": 9,
      "outputs": [
        {
          "output_type": "execute_result",
          "data": {
            "text/html": [
              "<div>\n",
              "<style scoped>\n",
              "    .dataframe tbody tr th:only-of-type {\n",
              "        vertical-align: middle;\n",
              "    }\n",
              "\n",
              "    .dataframe tbody tr th {\n",
              "        vertical-align: top;\n",
              "    }\n",
              "\n",
              "    .dataframe thead th {\n",
              "        text-align: right;\n",
              "    }\n",
              "</style>\n",
              "<table border=\"1\" class=\"dataframe\">\n",
              "  <thead>\n",
              "    <tr style=\"text-align: right;\">\n",
              "      <th></th>\n",
              "      <th>price</th>\n",
              "      <th>bedrooms</th>\n",
              "      <th>bathrooms</th>\n",
              "      <th>sqft_living</th>\n",
              "      <th>sqft_lot</th>\n",
              "      <th>floors</th>\n",
              "      <th>waterfront</th>\n",
              "      <th>view</th>\n",
              "      <th>condition</th>\n",
              "      <th>grade</th>\n",
              "      <th>sqft_above</th>\n",
              "      <th>sqft_basement</th>\n",
              "      <th>yr_built</th>\n",
              "      <th>yr_renovated</th>\n",
              "      <th>zipcode</th>\n",
              "      <th>lat</th>\n",
              "      <th>long</th>\n",
              "      <th>sqft_living15</th>\n",
              "      <th>sqft_lot15</th>\n",
              "    </tr>\n",
              "  </thead>\n",
              "  <tbody>\n",
              "    <tr>\n",
              "      <th>0</th>\n",
              "      <td>221900.0</td>\n",
              "      <td>3</td>\n",
              "      <td>1.00</td>\n",
              "      <td>1180</td>\n",
              "      <td>5650</td>\n",
              "      <td>1.0</td>\n",
              "      <td>0</td>\n",
              "      <td>0</td>\n",
              "      <td>3</td>\n",
              "      <td>7</td>\n",
              "      <td>1180</td>\n",
              "      <td>0</td>\n",
              "      <td>1955</td>\n",
              "      <td>0</td>\n",
              "      <td>98178</td>\n",
              "      <td>47.5112</td>\n",
              "      <td>-122.257</td>\n",
              "      <td>1340</td>\n",
              "      <td>5650</td>\n",
              "    </tr>\n",
              "    <tr>\n",
              "      <th>1</th>\n",
              "      <td>538000.0</td>\n",
              "      <td>3</td>\n",
              "      <td>2.25</td>\n",
              "      <td>2570</td>\n",
              "      <td>7242</td>\n",
              "      <td>2.0</td>\n",
              "      <td>0</td>\n",
              "      <td>0</td>\n",
              "      <td>3</td>\n",
              "      <td>7</td>\n",
              "      <td>2170</td>\n",
              "      <td>400</td>\n",
              "      <td>1951</td>\n",
              "      <td>1991</td>\n",
              "      <td>98125</td>\n",
              "      <td>47.7210</td>\n",
              "      <td>-122.319</td>\n",
              "      <td>1690</td>\n",
              "      <td>7639</td>\n",
              "    </tr>\n",
              "    <tr>\n",
              "      <th>2</th>\n",
              "      <td>180000.0</td>\n",
              "      <td>2</td>\n",
              "      <td>1.00</td>\n",
              "      <td>770</td>\n",
              "      <td>10000</td>\n",
              "      <td>1.0</td>\n",
              "      <td>0</td>\n",
              "      <td>0</td>\n",
              "      <td>3</td>\n",
              "      <td>6</td>\n",
              "      <td>770</td>\n",
              "      <td>0</td>\n",
              "      <td>1933</td>\n",
              "      <td>0</td>\n",
              "      <td>98028</td>\n",
              "      <td>47.7379</td>\n",
              "      <td>-122.233</td>\n",
              "      <td>2720</td>\n",
              "      <td>8062</td>\n",
              "    </tr>\n",
              "    <tr>\n",
              "      <th>3</th>\n",
              "      <td>604000.0</td>\n",
              "      <td>4</td>\n",
              "      <td>3.00</td>\n",
              "      <td>1960</td>\n",
              "      <td>5000</td>\n",
              "      <td>1.0</td>\n",
              "      <td>0</td>\n",
              "      <td>0</td>\n",
              "      <td>5</td>\n",
              "      <td>7</td>\n",
              "      <td>1050</td>\n",
              "      <td>910</td>\n",
              "      <td>1965</td>\n",
              "      <td>0</td>\n",
              "      <td>98136</td>\n",
              "      <td>47.5208</td>\n",
              "      <td>-122.393</td>\n",
              "      <td>1360</td>\n",
              "      <td>5000</td>\n",
              "    </tr>\n",
              "    <tr>\n",
              "      <th>4</th>\n",
              "      <td>510000.0</td>\n",
              "      <td>3</td>\n",
              "      <td>2.00</td>\n",
              "      <td>1680</td>\n",
              "      <td>8080</td>\n",
              "      <td>1.0</td>\n",
              "      <td>0</td>\n",
              "      <td>0</td>\n",
              "      <td>3</td>\n",
              "      <td>8</td>\n",
              "      <td>1680</td>\n",
              "      <td>0</td>\n",
              "      <td>1987</td>\n",
              "      <td>0</td>\n",
              "      <td>98074</td>\n",
              "      <td>47.6168</td>\n",
              "      <td>-122.045</td>\n",
              "      <td>1800</td>\n",
              "      <td>7503</td>\n",
              "    </tr>\n",
              "  </tbody>\n",
              "</table>\n",
              "</div>"
            ],
            "text/plain": [
              "      price  bedrooms  bathrooms  ...     long  sqft_living15  sqft_lot15\n",
              "0  221900.0         3       1.00  ... -122.257           1340        5650\n",
              "1  538000.0         3       2.25  ... -122.319           1690        7639\n",
              "2  180000.0         2       1.00  ... -122.233           2720        8062\n",
              "3  604000.0         4       3.00  ... -122.393           1360        5000\n",
              "4  510000.0         3       2.00  ... -122.045           1800        7503\n",
              "\n",
              "[5 rows x 19 columns]"
            ]
          },
          "metadata": {
            "tags": []
          },
          "execution_count": 9
        }
      ]
    },
    {
      "cell_type": "code",
      "metadata": {
        "id": "DkCgovVZg9Jm",
        "colab_type": "code",
        "colab": {
          "base_uri": "https://localhost:8080/",
          "height": 35
        },
        "outputId": "2a6824a4-c9f8-4598-b302-b8bbc29fa95a"
      },
      "source": [
        "dataset['price'].corr(dataset['bathrooms'])"
      ],
      "execution_count": 10,
      "outputs": [
        {
          "output_type": "execute_result",
          "data": {
            "text/plain": [
              "0.525137505413962"
            ]
          },
          "metadata": {
            "tags": []
          },
          "execution_count": 10
        }
      ]
    },
    {
      "cell_type": "code",
      "metadata": {
        "id": "CsEHQvjmiily",
        "colab_type": "code",
        "colab": {
          "base_uri": "https://localhost:8080/",
          "height": 35
        },
        "outputId": "cfc7ecc1-2008-4fbf-fbd2-bc296b473fb4"
      },
      "source": [
        "dataset['price'].corr(dataset['sqft_living'])"
      ],
      "execution_count": 11,
      "outputs": [
        {
          "output_type": "execute_result",
          "data": {
            "text/plain": [
              "0.7020350546118003"
            ]
          },
          "metadata": {
            "tags": []
          },
          "execution_count": 11
        }
      ]
    },
    {
      "cell_type": "code",
      "metadata": {
        "id": "gn5wujpFjZSQ",
        "colab_type": "code",
        "colab": {
          "base_uri": "https://localhost:8080/",
          "height": 35
        },
        "outputId": "febc558e-8e33-4a59-f6b8-e4b662617c63"
      },
      "source": [
        "dataset['price'].corr(dataset['zipcode'])"
      ],
      "execution_count": 12,
      "outputs": [
        {
          "output_type": "execute_result",
          "data": {
            "text/plain": [
              "-0.05320285429832562"
            ]
          },
          "metadata": {
            "tags": []
          },
          "execution_count": 12
        }
      ]
    },
    {
      "cell_type": "code",
      "metadata": {
        "id": "E3rP9qeOj4qf",
        "colab_type": "code",
        "colab": {
          "base_uri": "https://localhost:8080/",
          "height": 307
        },
        "outputId": "6da53278-853c-4725-83d0-9f24a49369dd"
      },
      "source": [
        "dataset.plot.scatter(x='zipcode', y='price')"
      ],
      "execution_count": 14,
      "outputs": [
        {
          "output_type": "execute_result",
          "data": {
            "text/plain": [
              "<matplotlib.axes._subplots.AxesSubplot at 0x7f70e163d208>"
            ]
          },
          "metadata": {
            "tags": []
          },
          "execution_count": 14
        },
        {
          "output_type": "display_data",
          "data": {
            "image/png": "[encoded data removed]",
            "text/plain": [
              "<Figure size 432x288 with 1 Axes>"
            ]
          },
          "metadata": {
            "tags": [],
            "needs_background": "light"
          }
        }
      ]
    },
    {
      "cell_type": "code",
      "metadata": {
        "id": "HTNgSiIbkN9g",
        "colab_type": "code",
        "colab": {
          "base_uri": "https://localhost:8080/",
          "height": 309
        },
        "outputId": "5bf875e2-6630-4883-eccd-d2271d9080ba"
      },
      "source": [
        "dataset.plot.scatter(x='sqft_living', y='price')"
      ],
      "execution_count": 15,
      "outputs": [
        {
          "output_type": "execute_result",
          "data": {
            "text/plain": [
              "<matplotlib.axes._subplots.AxesSubplot at 0x7f70e16db240>"
            ]
          },
          "metadata": {
            "tags": []
          },
          "execution_count": 15
        },
        {
          "output_type": "display_data",
          "data": {
            "image/png": "[encoded data removed]",
            "text/plain": [
              "<Figure size 432x288 with 1 Axes>"
            ]
          },
          "metadata": {
            "tags": [],
            "needs_background": "light"
          }
        }
      ]
    },
    {
      "cell_type": "code",
      "metadata": {
        "id": "hiHzaplkpB_y",
        "colab_type": "code",
        "colab": {}
      },
      "source": [
        "X = dataset.iloc[:,1:].values\n",
        "y = dataset.iloc[:,0].values"
      ],
      "execution_count": 17,
      "outputs": []
    },
    {
      "cell_type": "code",
      "metadata": {
        "id": "sd7KR096pFBv",
        "colab_type": "code",
        "colab": {
          "base_uri": "https://localhost:8080/",
          "height": 243
        },
        "outputId": "8b7f3cb8-3593-43d7-96d3-877fdf71a187"
      },
      "source": [
        "X"
      ],
      "execution_count": 18,
      "outputs": [
        {
          "output_type": "execute_result",
          "data": {
            "text/plain": [
              "array([[ 3.00000e+00,  1.00000e+00,  1.18000e+03, ..., -1.22257e+02,\n",
              "         1.34000e+03,  5.65000e+03],\n",
              "       [ 3.00000e+00,  2.25000e+00,  2.57000e+03, ..., -1.22319e+02,\n",
              "         1.69000e+03,  7.63900e+03],\n",
              "       [ 2.00000e+00,  1.00000e+00,  7.70000e+02, ..., -1.22233e+02,\n",
              "         2.72000e+03,  8.06200e+03],\n",
              "       ...,\n",
              "       [ 2.00000e+00,  7.50000e-01,  1.02000e+03, ..., -1.22299e+02,\n",
              "         1.02000e+03,  2.00700e+03],\n",
              "       [ 3.00000e+00,  2.50000e+00,  1.60000e+03, ..., -1.22069e+02,\n",
              "         1.41000e+03,  1.28700e+03],\n",
              "       [ 2.00000e+00,  7.50000e-01,  1.02000e+03, ..., -1.22299e+02,\n",
              "         1.02000e+03,  1.35700e+03]])"
            ]
          },
          "metadata": {
            "tags": []
          },
          "execution_count": 18
        }
      ]
    },
    {
      "cell_type": "code",
      "metadata": {
        "id": "1Mjd9rm-punH",
        "colab_type": "code",
        "colab": {
          "base_uri": "https://localhost:8080/",
          "height": 104
        },
        "outputId": "559057e6-fdf2-4e1d-9985-42582fdaea58"
      },
      "source": [
        "X[0]"
      ],
      "execution_count": 19,
      "outputs": [
        {
          "output_type": "execute_result",
          "data": {
            "text/plain": [
              "array([ 3.00000e+00,  1.00000e+00,  1.18000e+03,  5.65000e+03,\n",
              "        1.00000e+00,  0.00000e+00,  0.00000e+00,  3.00000e+00,\n",
              "        7.00000e+00,  1.18000e+03,  0.00000e+00,  1.95500e+03,\n",
              "        0.00000e+00,  9.81780e+04,  4.75112e+01, -1.22257e+02,\n",
              "        1.34000e+03,  5.65000e+03])"
            ]
          },
          "metadata": {
            "tags": []
          },
          "execution_count": 19
        }
      ]
    },
    {
      "cell_type": "code",
      "metadata": {
        "id": "sKywd8rgpxQv",
        "colab_type": "code",
        "colab": {
          "base_uri": "https://localhost:8080/",
          "height": 35
        },
        "outputId": "7d653fe4-159b-4f7e-a277-e1e353ba51e5"
      },
      "source": [
        "y[0]"
      ],
      "execution_count": 20,
      "outputs": [
        {
          "output_type": "execute_result",
          "data": {
            "text/plain": [
              "221900.0"
            ]
          },
          "metadata": {
            "tags": []
          },
          "execution_count": 20
        }
      ]
    },
    {
      "cell_type": "code",
      "metadata": {
        "id": "xntjNgGaqUQo",
        "colab_type": "code",
        "colab": {}
      },
      "source": [
        "from sklearn.model_selection import train_test_split\n",
        "X_train, X_test, y_train, y_test = train_test_split(X, y, test_size = 1/3)"
      ],
      "execution_count": 23,
      "outputs": []
    },
    {
      "cell_type": "code",
      "metadata": {
        "id": "O0EhPjh2rJ9n",
        "colab_type": "code",
        "colab": {
          "base_uri": "https://localhost:8080/",
          "height": 35
        },
        "outputId": "5420c936-05b8-46c9-b1ed-e3ead605e615"
      },
      "source": [
        "len(X)"
      ],
      "execution_count": 24,
      "outputs": [
        {
          "output_type": "execute_result",
          "data": {
            "text/plain": [
              "21613"
            ]
          },
          "metadata": {
            "tags": []
          },
          "execution_count": 24
        }
      ]
    },
    {
      "cell_type": "code",
      "metadata": {
        "id": "MEqX-2pArNaR",
        "colab_type": "code",
        "colab": {
          "base_uri": "https://localhost:8080/",
          "height": 35
        },
        "outputId": "a73c47aa-5501-47f5-a5f8-3303ffbe0e4e"
      },
      "source": [
        "len(X_train)"
      ],
      "execution_count": 25,
      "outputs": [
        {
          "output_type": "execute_result",
          "data": {
            "text/plain": [
              "14408"
            ]
          },
          "metadata": {
            "tags": []
          },
          "execution_count": 25
        }
      ]
    },
    {
      "cell_type": "code",
      "metadata": {
        "id": "3Yp9lYiLr2vv",
        "colab_type": "code",
        "colab": {
          "base_uri": "https://localhost:8080/",
          "height": 72
        },
        "outputId": "559b1dff-7f76-46a3-fc1c-5a85d6121d0c"
      },
      "source": [
        "import statsmodels.api as sm"
      ],
      "execution_count": 26,
      "outputs": [
        {
          "output_type": "stream",
          "text": [
            "/usr/local/lib/python3.6/dist-packages/statsmodels/tools/_testing.py:19: FutureWarning: pandas.util.testing is deprecated. Use the functions in the public API at pandas.testing instead.\n",
            "  import pandas.util.testing as tm\n"
          ],
          "name": "stderr"
        }
      ]
    },
    {
      "cell_type": "code",
      "metadata": {
        "id": "AofrDssOr4mO",
        "colab_type": "code",
        "colab": {}
      },
      "source": [
        "model = sm.OLS(y_train, X_train).fit()"
      ],
      "execution_count": 28,
      "outputs": []
    },
    {
      "cell_type": "code",
      "metadata": {
        "id": "IF1iWBcFr_fv",
        "colab_type": "code",
        "colab": {
          "base_uri": "https://localhost:8080/",
          "height": 806
        },
        "outputId": "7818d1d1-92fe-4757-aa0d-310dbf4a6859"
      },
      "source": [
        "model.summary()"
      ],
      "execution_count": 29,
      "outputs": [
        {
          "output_type": "execute_result",
          "data": {
            "text/html": [
              "<table class=\"simpletable\">\n",
              "<caption>OLS Regression Results</caption>\n",
              "<tr>\n",
              "  <th>Dep. Variable:</th>            <td>y</td>        <th>  R-squared (uncentered):</th>       <td>   0.906</td>  \n",
              "</tr>\n",
              "<tr>\n",
              "  <th>Model:</th>                   <td>OLS</td>       <th>  Adj. R-squared (uncentered):</th>  <td>   0.906</td>  \n",
              "</tr>\n",
              "<tr>\n",
              "  <th>Method:</th>             <td>Least Squares</td>  <th>  F-statistic:       </th>           <td>   8136.</td>  \n",
              "</tr>\n",
              "<tr>\n",
              "  <th>Date:</th>             <td>Sat, 04 Jul 2020</td> <th>  Prob (F-statistic):</th>            <td>  0.00</td>   \n",
              "</tr>\n",
              "<tr>\n",
              "  <th>Time:</th>                 <td>11:56:05</td>     <th>  Log-Likelihood:    </th>          <td>-1.9639e+05</td>\n",
              "</tr>\n",
              "<tr>\n",
              "  <th>No. Observations:</th>      <td> 14408</td>      <th>  AIC:               </th>           <td>3.928e+05</td> \n",
              "</tr>\n",
              "<tr>\n",
              "  <th>Df Residuals:</th>          <td> 14391</td>      <th>  BIC:               </th>           <td>3.929e+05</td> \n",
              "</tr>\n",
              "<tr>\n",
              "  <th>Df Model:</th>              <td>    17</td>      <th>                     </th>               <td> </td>     \n",
              "</tr>\n",
              "<tr>\n",
              "  <th>Covariance Type:</th>      <td>nonrobust</td>    <th>                     </th>               <td> </td>     \n",
              "</tr>\n",
              "</table>\n",
              "<table class=\"simpletable\">\n",
              "<tr>\n",
              "   <td></td>      <th>coef</th>     <th>std err</th>      <th>t</th>      <th>P>|t|</th>  <th>[0.025</th>    <th>0.975]</th>  \n",
              "</tr>\n",
              "<tr>\n",
              "  <th>x1</th>  <td>-3.577e+04</td> <td> 2395.389</td> <td>  -14.935</td> <td> 0.000</td> <td>-4.05e+04</td> <td>-3.11e+04</td>\n",
              "</tr>\n",
              "<tr>\n",
              "  <th>x2</th>  <td> 3.978e+04</td> <td> 3985.160</td> <td>    9.981</td> <td> 0.000</td> <td>  3.2e+04</td> <td> 4.76e+04</td>\n",
              "</tr>\n",
              "<tr>\n",
              "  <th>x3</th>  <td>  108.7935</td> <td>    2.770</td> <td>   39.273</td> <td> 0.000</td> <td>  103.364</td> <td>  114.223</td>\n",
              "</tr>\n",
              "<tr>\n",
              "  <th>x4</th>  <td>    0.1077</td> <td>    0.068</td> <td>    1.590</td> <td> 0.112</td> <td>   -0.025</td> <td>    0.241</td>\n",
              "</tr>\n",
              "<tr>\n",
              "  <th>x5</th>  <td> 9359.8817</td> <td> 4345.255</td> <td>    2.154</td> <td> 0.031</td> <td>  842.622</td> <td> 1.79e+04</td>\n",
              "</tr>\n",
              "<tr>\n",
              "  <th>x6</th>  <td> 5.521e+05</td> <td> 2.11e+04</td> <td>   26.223</td> <td> 0.000</td> <td> 5.11e+05</td> <td> 5.93e+05</td>\n",
              "</tr>\n",
              "<tr>\n",
              "  <th>x7</th>  <td> 5.142e+04</td> <td> 2601.136</td> <td>   19.769</td> <td> 0.000</td> <td> 4.63e+04</td> <td> 5.65e+04</td>\n",
              "</tr>\n",
              "<tr>\n",
              "  <th>x8</th>  <td> 2.643e+04</td> <td> 2858.739</td> <td>    9.247</td> <td> 0.000</td> <td> 2.08e+04</td> <td>  3.2e+04</td>\n",
              "</tr>\n",
              "<tr>\n",
              "  <th>x9</th>  <td> 9.698e+04</td> <td> 2641.678</td> <td>   36.712</td> <td> 0.000</td> <td> 9.18e+04</td> <td> 1.02e+05</td>\n",
              "</tr>\n",
              "<tr>\n",
              "  <th>x10</th> <td>   65.6318</td> <td>    2.749</td> <td>   23.872</td> <td> 0.000</td> <td>   60.243</td> <td>   71.021</td>\n",
              "</tr>\n",
              "<tr>\n",
              "  <th>x11</th> <td>   43.1618</td> <td>    3.210</td> <td>   13.446</td> <td> 0.000</td> <td>   36.870</td> <td>   49.454</td>\n",
              "</tr>\n",
              "<tr>\n",
              "  <th>x12</th> <td>-2628.4650</td> <td>   83.239</td> <td>  -31.577</td> <td> 0.000</td> <td>-2791.624</td> <td>-2465.306</td>\n",
              "</tr>\n",
              "<tr>\n",
              "  <th>x13</th> <td>   23.2664</td> <td>    4.461</td> <td>    5.215</td> <td> 0.000</td> <td>   14.522</td> <td>   32.011</td>\n",
              "</tr>\n",
              "<tr>\n",
              "  <th>x14</th> <td> -519.1373</td> <td>   22.113</td> <td>  -23.477</td> <td> 0.000</td> <td> -562.482</td> <td> -475.793</td>\n",
              "</tr>\n",
              "<tr>\n",
              "  <th>x15</th> <td> 5.953e+05</td> <td> 1.32e+04</td> <td>   45.206</td> <td> 0.000</td> <td>  5.7e+05</td> <td> 6.21e+05</td>\n",
              "</tr>\n",
              "<tr>\n",
              "  <th>x16</th> <td>-2.216e+05</td> <td> 1.62e+04</td> <td>  -13.719</td> <td> 0.000</td> <td>-2.53e+05</td> <td> -1.9e+05</td>\n",
              "</tr>\n",
              "<tr>\n",
              "  <th>x17</th> <td>   30.7995</td> <td>    4.152</td> <td>    7.418</td> <td> 0.000</td> <td>   22.662</td> <td>   38.937</td>\n",
              "</tr>\n",
              "<tr>\n",
              "  <th>x18</th> <td>   -0.4140</td> <td>    0.098</td> <td>   -4.216</td> <td> 0.000</td> <td>   -0.606</td> <td>   -0.222</td>\n",
              "</tr>\n",
              "</table>\n",
              "<table class=\"simpletable\">\n",
              "<tr>\n",
              "  <th>Omnibus:</th>       <td>12345.239</td> <th>  Durbin-Watson:     </th>  <td>   1.975</td>  \n",
              "</tr>\n",
              "<tr>\n",
              "  <th>Prob(Omnibus):</th>  <td> 0.000</td>   <th>  Jarque-Bera (JB):  </th> <td>1275273.758</td>\n",
              "</tr>\n",
              "<tr>\n",
              "  <th>Skew:</th>           <td> 3.598</td>   <th>  Prob(JB):          </th>  <td>    0.00</td>  \n",
              "</tr>\n",
              "<tr>\n",
              "  <th>Kurtosis:</th>       <td>48.525</td>   <th>  Cond. No.          </th>  <td>3.65e+17</td>  \n",
              "</tr>\n",
              "</table><br/><br/>Warnings:<br/>[1] Standard Errors assume that the covariance matrix of the errors is correctly specified.<br/>[2] The smallest eigenvalue is 1.09e-21. This might indicate that there are<br/>strong multicollinearity problems or that the design matrix is singular."
            ],
            "text/plain": [
              "<class 'statsmodels.iolib.summary.Summary'>\n",
              "\"\"\"\n",
              "                                 OLS Regression Results                                \n",
              "=======================================================================================\n",
              "Dep. Variable:                      y   R-squared (uncentered):                   0.906\n",
              "Model:                            OLS   Adj. R-squared (uncentered):              0.906\n",
              "Method:                 Least Squares   F-statistic:                              8136.\n",
              "Date:                Sat, 04 Jul 2020   Prob (F-statistic):                        0.00\n",
              "Time:                        11:56:05   Log-Likelihood:                     -1.9639e+05\n",
              "No. Observations:               14408   AIC:                                  3.928e+05\n",
              "Df Residuals:                   14391   BIC:                                  3.929e+05\n",
              "Df Model:                          17                                                  \n",
              "Covariance Type:            nonrobust                                                  \n",
              "==============================================================================\n",
              "                 coef    std err          t      P>|t|      [0.025      0.975]\n",
              "------------------------------------------------------------------------------\n",
              "x1         -3.577e+04   2395.389    -14.935      0.000   -4.05e+04   -3.11e+04\n",
              "x2          3.978e+04   3985.160      9.981      0.000     3.2e+04    4.76e+04\n",
              "x3           108.7935      2.770     39.273      0.000     103.364     114.223\n",
              "x4             0.1077      0.068      1.590      0.112      -0.025       0.241\n",
              "x5          9359.8817   4345.255      2.154      0.031     842.622    1.79e+04\n",
              "x6          5.521e+05   2.11e+04     26.223      0.000    5.11e+05    5.93e+05\n",
              "x7          5.142e+04   2601.136     19.769      0.000    4.63e+04    5.65e+04\n",
              "x8          2.643e+04   2858.739      9.247      0.000    2.08e+04     3.2e+04\n",
              "x9          9.698e+04   2641.678     36.712      0.000    9.18e+04    1.02e+05\n",
              "x10           65.6318      2.749     23.872      0.000      60.243      71.021\n",
              "x11           43.1618      3.210     13.446      0.000      36.870      49.454\n",
              "x12        -2628.4650     83.239    -31.577      0.000   -2791.624   -2465.306\n",
              "x13           23.2664      4.461      5.215      0.000      14.522      32.011\n",
              "x14         -519.1373     22.113    -23.477      0.000    -562.482    -475.793\n",
              "x15         5.953e+05   1.32e+04     45.206      0.000     5.7e+05    6.21e+05\n",
              "x16        -2.216e+05   1.62e+04    -13.719      0.000   -2.53e+05    -1.9e+05\n",
              "x17           30.7995      4.152      7.418      0.000      22.662      38.937\n",
              "x18           -0.4140      0.098     -4.216      0.000      -0.606      -0.222\n",
              "==============================================================================\n",
              "Omnibus:                    12345.239   Durbin-Watson:                   1.975\n",
              "Prob(Omnibus):                  0.000   Jarque-Bera (JB):          1275273.758\n",
              "Skew:                           3.598   Prob(JB):                         0.00\n",
              "Kurtosis:                      48.525   Cond. No.                     3.65e+17\n",
              "==============================================================================\n",
              "\n",
              "Warnings:\n",
              "[1] Standard Errors assume that the covariance matrix of the errors is correctly specified.\n",
              "[2] The smallest eigenvalue is 1.09e-21. This might indicate that there are\n",
              "strong multicollinearity problems or that the design matrix is singular.\n",
              "\"\"\""
            ]
          },
          "metadata": {
            "tags": []
          },
          "execution_count": 29
        }
      ]
    },
    {
      "cell_type": "code",
      "metadata": {
        "id": "uUaKUKa_tQ63",
        "colab_type": "code",
        "colab": {}
      },
      "source": [
        "predictions = model.predict(X_test)"
      ],
      "execution_count": 30,
      "outputs": []
    },
    {
      "cell_type": "code",
      "metadata": {
        "id": "kwvYuB6ltWg5",
        "colab_type": "code",
        "colab": {
          "base_uri": "https://localhost:8080/",
          "height": 35
        },
        "outputId": "7630dc20-d47e-4d90-9c41-bb5f83682415"
      },
      "source": [
        "len(predictions)"
      ],
      "execution_count": 31,
      "outputs": [
        {
          "output_type": "execute_result",
          "data": {
            "text/plain": [
              "7205"
            ]
          },
          "metadata": {
            "tags": []
          },
          "execution_count": 31
        }
      ]
    },
    {
      "cell_type": "code",
      "metadata": {
        "id": "An4r6sPstcxA",
        "colab_type": "code",
        "colab": {
          "base_uri": "https://localhost:8080/",
          "height": 35
        },
        "outputId": "4f3c7301-2ec5-4bd2-effe-681b0aa12c74"
      },
      "source": [
        "predictions[0]"
      ],
      "execution_count": 32,
      "outputs": [
        {
          "output_type": "execute_result",
          "data": {
            "text/plain": [
              "526961.3587599478"
            ]
          },
          "metadata": {
            "tags": []
          },
          "execution_count": 32
        }
      ]
    },
    {
      "cell_type": "code",
      "metadata": {
        "id": "qUPgpLw5tlco",
        "colab_type": "code",
        "colab": {
          "base_uri": "https://localhost:8080/",
          "height": 35
        },
        "outputId": "d93746cc-5399-4904-88fd-4e206d93d3c6"
      },
      "source": [
        "y_test[0]"
      ],
      "execution_count": 33,
      "outputs": [
        {
          "output_type": "execute_result",
          "data": {
            "text/plain": [
              "561000.0"
            ]
          },
          "metadata": {
            "tags": []
          },
          "execution_count": 33
        }
      ]
    },
    {
      "cell_type": "code",
      "metadata": {
        "id": "rZRVxjoZuley",
        "colab_type": "code",
        "colab": {
          "base_uri": "https://localhost:8080/",
          "height": 35
        },
        "outputId": "8764d4d5-5fe0-4736-af1a-2b7cfb22404b"
      },
      "source": [
        "predictions[6]"
      ],
      "execution_count": 34,
      "outputs": [
        {
          "output_type": "execute_result",
          "data": {
            "text/plain": [
              "632864.4411391626"
            ]
          },
          "metadata": {
            "tags": []
          },
          "execution_count": 34
        }
      ]
    },
    {
      "cell_type": "code",
      "metadata": {
        "id": "Gm2hb868uo9m",
        "colab_type": "code",
        "colab": {
          "base_uri": "https://localhost:8080/",
          "height": 35
        },
        "outputId": "f68e1a5e-0f9f-4dd1-d688-cc9f0a400113"
      },
      "source": [
        "y_test[6]"
      ],
      "execution_count": 35,
      "outputs": [
        {
          "output_type": "execute_result",
          "data": {
            "text/plain": [
              "585188.0"
            ]
          },
          "metadata": {
            "tags": []
          },
          "execution_count": 35
        }
      ]
    },
    {
      "cell_type": "code",
      "metadata": {
        "id": "xNnuQTVwvQrO",
        "colab_type": "code",
        "colab": {}
      },
      "source": [
        "from sklearn.metrics import mean_squared_error"
      ],
      "execution_count": 36,
      "outputs": []
    },
    {
      "cell_type": "code",
      "metadata": {
        "id": "XsewaoYXvSGB",
        "colab_type": "code",
        "colab": {
          "base_uri": "https://localhost:8080/",
          "height": 35
        },
        "outputId": "6383d6f1-c57f-4abc-954c-ed01098a0df1"
      },
      "source": [
        "mean_squared_error(y_test, predictions)"
      ],
      "execution_count": 38,
      "outputs": [
        {
          "output_type": "execute_result",
          "data": {
            "text/plain": [
              "40679331713.22044"
            ]
          },
          "metadata": {
            "tags": []
          },
          "execution_count": 38
        }
      ]
    }
  ]
}